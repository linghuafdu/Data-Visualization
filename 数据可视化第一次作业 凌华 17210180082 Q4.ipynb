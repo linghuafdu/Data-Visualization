{
 "cells": [
  {
   "cell_type": "code",
   "execution_count": 3,
   "metadata": {},
   "outputs": [],
   "source": [
    "import numpy as np\n",
    "import datetime\n",
    "import heapq  #加载堆排序算法包\n",
    "amount = 100000000  #生成1亿个随机数\n",
    "k = 100  #提取top k"
   ]
  },
  {
   "cell_type": "code",
   "execution_count": 4,
   "metadata": {
    "collapsed": true
   },
   "outputs": [],
   "source": [
    "def seperate(s,n):\n",
    "    left = 0        # 左临界点left = 0\n",
    "    right = len(s) - 1 \n",
    "    while left <= right:\n",
    "        mid = (left + right) // 2     # 索引只能是整数,因此用地板除\n",
    "        if n > s[mid]:\n",
    "            left = mid + 1\n",
    "        elif n < s[mid]:\n",
    "            right = mid - 1\n",
    "        else:\n",
    "            break\n",
    "    return mid\n",
    "    \n",
    "def get_top_N(l,k):\n",
    "    s = l[:k]\n",
    "    s.sort()\n",
    "    for i in l[k:]:\n",
    "        if i>=s[0]:\n",
    "            s = s[1:]\n",
    "            s.append(i)\n",
    "            s.sort()\n",
    "        else:\n",
    "            continue\n",
    "    return s"
   ]
  },
  {
   "cell_type": "code",
   "execution_count": 8,
   "metadata": {
    "collapsed": true
   },
   "outputs": [],
   "source": [
    "def get_least_numbers_big_data( alist, k):\n",
    "    max_heap = []\n",
    "    length = len(alist)\n",
    "    if not alist or k <= 0 or k > length:\n",
    "        return\n",
    "    k = k - 1\n",
    "    for ele in alist:\n",
    "        #ele = -ele\n",
    "        if len(max_heap) <= k:\n",
    "            heapq.heappush(max_heap, ele)#往堆中插入一条新的值\n",
    "        else:\n",
    "            heapq.heappushpop(max_heap, ele)#顾名思义，将值插入到堆中同时弹出堆中的最小值\n",
    "\n",
    "    return map(lambda x:x, max_heap)"
   ]
  },
  {
   "cell_type": "code",
   "execution_count": 5,
   "metadata": {
    "collapsed": true
   },
   "outputs": [],
   "source": [
    "l = list(np.random.normal(0,1,amount))"
   ]
  },
  {
   "cell_type": "code",
   "execution_count": 6,
   "metadata": {},
   "outputs": [
    {
     "name": "stdout",
     "output_type": "stream",
     "text": [
      "method1耗时7秒\n"
     ]
    }
   ],
   "source": [
    "starttime = datetime.datetime.now()   \n",
    "max_k = get_top_N(l,100)   \n",
    "endtime = datetime.datetime.now()\n",
    "print (\"method1耗时{}秒\".format((endtime - starttime).seconds))"
   ]
  },
  {
   "cell_type": "code",
   "execution_count": 9,
   "metadata": {},
   "outputs": [
    {
     "name": "stdout",
     "output_type": "stream",
     "text": [
      "method2耗时20秒\n"
     ]
    }
   ],
   "source": [
    "starttime = datetime.datetime.now()   \n",
    "max_k_2 = get_least_numbers_big_data(l, 100)   \n",
    "endtime = datetime.datetime.now()\n",
    "print (\"method2耗时{}秒\".format((endtime - starttime).seconds))"
   ]
  },
  {
   "cell_type": "code",
   "execution_count": 12,
   "metadata": {},
   "outputs": [
    {
     "name": "stdout",
     "output_type": "stream",
     "text": [
      "method3耗时163秒\n"
     ]
    }
   ],
   "source": [
    "starttime = datetime.datetime.now()   \n",
    "l.sort()\n",
    "endtime = datetime.datetime.now()\n",
    "print (\"method3耗时{}秒\".format((endtime - starttime).seconds))"
   ]
  },
  {
   "cell_type": "code",
   "execution_count": null,
   "metadata": {
    "collapsed": true
   },
   "outputs": [],
   "source": []
  }
 ],
 "metadata": {
  "kernelspec": {
   "display_name": "Python 3",
   "language": "python",
   "name": "python3"
  },
  "language_info": {
   "codemirror_mode": {
    "name": "ipython",
    "version": 3
   },
   "file_extension": ".py",
   "mimetype": "text/x-python",
   "name": "python",
   "nbconvert_exporter": "python",
   "pygments_lexer": "ipython3",
   "version": "3.6.3"
  }
 },
 "nbformat": 4,
 "nbformat_minor": 2
}
